{
 "cells": [
  {
   "cell_type": "code",
   "execution_count": 1,
   "id": "6dc0a731",
   "metadata": {
    "_cell_guid": "b1076dfc-b9ad-4769-8c92-a6c4dae69d19",
    "_uuid": "8f2839f25d086af736a60e9eeb907d3b93b6e0e5",
    "execution": {
     "iopub.execute_input": "2022-12-23T20:20:47.211609Z",
     "iopub.status.busy": "2022-12-23T20:20:47.210850Z",
     "iopub.status.idle": "2022-12-23T20:20:47.225627Z",
     "shell.execute_reply": "2022-12-23T20:20:47.224614Z"
    },
    "papermill": {
     "duration": 0.023777,
     "end_time": "2022-12-23T20:20:47.228145",
     "exception": false,
     "start_time": "2022-12-23T20:20:47.204368",
     "status": "completed"
    },
    "tags": []
   },
   "outputs": [],
   "source": [
    "# This Python 3 environment comes with many helpful analytics libraries installed\n",
    "# It is defined by the kaggle/python Docker image: https://github.com/kaggle/docker-python\n",
    "# For example, here's several helpful packages to load\n",
    "\n",
    "import numpy as np # linear algebra\n",
    "import pandas as pd # data processing, CSV file I/O (e.g. pd.read_csv)\n",
    "\n",
    "# Input data files are available in the read-only \"../input/\" directory\n",
    "# For example, running this (by clicking run or pressing Shift+Enter) will list all files under the input directory\n",
    "\n",
    "import os\n",
    "for dirname, _, filenames in os.walk('/kaggle/input'):\n",
    "    for filename in filenames:\n",
    "        print(os.path.join(dirname, filename))\n",
    "\n",
    "# You can write up to 20GB to the current directory (/kaggle/working/) that gets preserved as output when you create a version using \"Save & Run All\" \n",
    "# You can also write temporary files to /kaggle/temp/, but they won't be saved outside of the current session"
   ]
  },
  {
   "cell_type": "code",
   "execution_count": 2,
   "id": "823e0d64",
   "metadata": {
    "execution": {
     "iopub.execute_input": "2022-12-23T20:20:47.237734Z",
     "iopub.status.busy": "2022-12-23T20:20:47.236608Z",
     "iopub.status.idle": "2022-12-23T20:21:02.804303Z",
     "shell.execute_reply": "2022-12-23T20:21:02.802772Z"
    },
    "papermill": {
     "duration": 15.576019,
     "end_time": "2022-12-23T20:21:02.807650",
     "exception": false,
     "start_time": "2022-12-23T20:20:47.231631",
     "status": "completed"
    },
    "tags": []
   },
   "outputs": [
    {
     "name": "stdout",
     "output_type": "stream",
     "text": [
      "Collecting yfinance\r\n",
      "  Downloading yfinance-0.2.3-py2.py3-none-any.whl (50 kB)\r\n",
      "\u001b[2K     \u001b[90m━━━━━━━━━━━━━━━━━━━━━━━━━━━━━━━━━━━━━━━\u001b[0m \u001b[32m50.4/50.4 kB\u001b[0m \u001b[31m439.3 kB/s\u001b[0m eta \u001b[36m0:00:00\u001b[0m\r\n",
      "\u001b[?25hRequirement already satisfied: requests>=2.26 in /opt/conda/lib/python3.7/site-packages (from yfinance) (2.28.1)\r\n",
      "Requirement already satisfied: cryptography>=3.3.2 in /opt/conda/lib/python3.7/site-packages (from yfinance) (37.0.2)\r\n",
      "Collecting pytz>=2022.5\r\n",
      "  Downloading pytz-2022.7-py2.py3-none-any.whl (499 kB)\r\n",
      "\u001b[2K     \u001b[90m━━━━━━━━━━━━━━━━━━━━━━━━━━━━━━━━━━━━━━━\u001b[0m \u001b[32m499.4/499.4 kB\u001b[0m \u001b[31m2.3 MB/s\u001b[0m eta \u001b[36m0:00:00\u001b[0m\r\n",
      "\u001b[?25hRequirement already satisfied: numpy>=1.16.5 in /opt/conda/lib/python3.7/site-packages (from yfinance) (1.21.6)\r\n",
      "Requirement already satisfied: pandas>=1.3.0 in /opt/conda/lib/python3.7/site-packages (from yfinance) (1.3.5)\r\n",
      "Requirement already satisfied: appdirs>=1.4.4 in /opt/conda/lib/python3.7/site-packages (from yfinance) (1.4.4)\r\n",
      "Requirement already satisfied: html5lib>=1.1 in /opt/conda/lib/python3.7/site-packages (from yfinance) (1.1)\r\n",
      "Requirement already satisfied: lxml>=4.9.1 in /opt/conda/lib/python3.7/site-packages (from yfinance) (4.9.1)\r\n",
      "Requirement already satisfied: frozendict>=2.3.4 in /opt/conda/lib/python3.7/site-packages (from yfinance) (2.3.4)\r\n",
      "Collecting multitasking>=0.0.7\r\n",
      "  Downloading multitasking-0.0.11-py3-none-any.whl (8.5 kB)\r\n",
      "Requirement already satisfied: beautifulsoup4>=4.11.1 in /opt/conda/lib/python3.7/site-packages (from yfinance) (4.11.1)\r\n",
      "Requirement already satisfied: soupsieve>1.2 in /opt/conda/lib/python3.7/site-packages (from beautifulsoup4>=4.11.1->yfinance) (2.3.1)\r\n",
      "Requirement already satisfied: cffi>=1.12 in /opt/conda/lib/python3.7/site-packages (from cryptography>=3.3.2->yfinance) (1.15.0)\r\n",
      "Requirement already satisfied: webencodings in /opt/conda/lib/python3.7/site-packages (from html5lib>=1.1->yfinance) (0.5.1)\r\n",
      "Requirement already satisfied: six>=1.9 in /opt/conda/lib/python3.7/site-packages (from html5lib>=1.1->yfinance) (1.15.0)\r\n",
      "Requirement already satisfied: python-dateutil>=2.7.3 in /opt/conda/lib/python3.7/site-packages (from pandas>=1.3.0->yfinance) (2.8.2)\r\n",
      "Requirement already satisfied: urllib3<1.27,>=1.21.1 in /opt/conda/lib/python3.7/site-packages (from requests>=2.26->yfinance) (1.26.12)\r\n",
      "Requirement already satisfied: certifi>=2017.4.17 in /opt/conda/lib/python3.7/site-packages (from requests>=2.26->yfinance) (2022.9.24)\r\n",
      "Requirement already satisfied: idna<4,>=2.5 in /opt/conda/lib/python3.7/site-packages (from requests>=2.26->yfinance) (3.3)\r\n",
      "Requirement already satisfied: charset-normalizer<3,>=2 in /opt/conda/lib/python3.7/site-packages (from requests>=2.26->yfinance) (2.1.0)\r\n",
      "Requirement already satisfied: pycparser in /opt/conda/lib/python3.7/site-packages (from cffi>=1.12->cryptography>=3.3.2->yfinance) (2.21)\r\n",
      "Installing collected packages: pytz, multitasking, yfinance\r\n",
      "  Attempting uninstall: pytz\r\n",
      "    Found existing installation: pytz 2022.1\r\n",
      "    Uninstalling pytz-2022.1:\r\n",
      "      Successfully uninstalled pytz-2022.1\r\n",
      "\u001b[31mERROR: pip's dependency resolver does not currently take into account all the packages that are installed. This behaviour is the source of the following dependency conflicts.\r\n",
      "beatrix-jupyterlab 3.1.7 requires google-cloud-bigquery-storage, which is not installed.\r\n",
      "pandas-profiling 3.1.0 requires markupsafe~=2.0.1, but you have markupsafe 2.1.1 which is incompatible.\r\n",
      "apache-beam 2.40.0 requires dill<0.3.2,>=0.3.1.1, but you have dill 0.3.5.1 which is incompatible.\r\n",
      "apache-beam 2.40.0 requires pyarrow<8.0.0,>=0.15.1, but you have pyarrow 8.0.0 which is incompatible.\u001b[0m\u001b[31m\r\n",
      "\u001b[0mSuccessfully installed multitasking-0.0.11 pytz-2022.7 yfinance-0.2.3\r\n",
      "\u001b[33mWARNING: Running pip as the 'root' user can result in broken permissions and conflicting behaviour with the system package manager. It is recommended to use a virtual environment instead: https://pip.pypa.io/warnings/venv\u001b[0m\u001b[33m\r\n",
      "\u001b[0mNote: you may need to restart the kernel to use updated packages.\n"
     ]
    }
   ],
   "source": [
    "pip install yfinance"
   ]
  },
  {
   "cell_type": "code",
   "execution_count": 3,
   "id": "7b4c8529",
   "metadata": {
    "execution": {
     "iopub.execute_input": "2022-12-23T20:21:02.820291Z",
     "iopub.status.busy": "2022-12-23T20:21:02.819852Z",
     "iopub.status.idle": "2022-12-23T20:21:02.866207Z",
     "shell.execute_reply": "2022-12-23T20:21:02.864970Z"
    },
    "papermill": {
     "duration": 0.056006,
     "end_time": "2022-12-23T20:21:02.869043",
     "exception": false,
     "start_time": "2022-12-23T20:21:02.813037",
     "status": "completed"
    },
    "tags": []
   },
   "outputs": [],
   "source": [
    "# Raw Package\n",
    "import numpy as np\n",
    "import pandas as pd\n",
    "\n",
    "#Data Source\n",
    "import yfinance as yf\n",
    "\n",
    "#Data viz\n",
    "import plotly.graph_objs as go"
   ]
  },
  {
   "cell_type": "code",
   "execution_count": 4,
   "id": "d4f48d16",
   "metadata": {
    "execution": {
     "iopub.execute_input": "2022-12-23T20:21:02.880449Z",
     "iopub.status.busy": "2022-12-23T20:21:02.879760Z",
     "iopub.status.idle": "2022-12-23T20:21:03.344492Z",
     "shell.execute_reply": "2022-12-23T20:21:03.343321Z"
    },
    "papermill": {
     "duration": 0.473257,
     "end_time": "2022-12-23T20:21:03.347042",
     "exception": false,
     "start_time": "2022-12-23T20:21:02.873785",
     "status": "completed"
    },
    "tags": []
   },
   "outputs": [
    {
     "name": "stdout",
     "output_type": "stream",
     "text": [
      "[*********************100%***********************]  1 of 1 completed\n"
     ]
    }
   ],
   "source": [
    "data = yf.download(tickers='ETH-USD', period = '1d', interval = '5m')\n"
   ]
  },
  {
   "cell_type": "code",
   "execution_count": 5,
   "id": "c210fdf7",
   "metadata": {
    "execution": {
     "iopub.execute_input": "2022-12-23T20:21:03.358785Z",
     "iopub.status.busy": "2022-12-23T20:21:03.357991Z",
     "iopub.status.idle": "2022-12-23T20:21:03.367394Z",
     "shell.execute_reply": "2022-12-23T20:21:03.366142Z"
    },
    "papermill": {
     "duration": 0.018453,
     "end_time": "2022-12-23T20:21:03.370398",
     "exception": false,
     "start_time": "2022-12-23T20:21:03.351945",
     "status": "completed"
    },
    "tags": []
   },
   "outputs": [
    {
     "name": "stdout",
     "output_type": "stream",
     "text": [
      "Datetime\n",
      "2022-12-23 00:00:00    1218.079346\n",
      "2022-12-23 00:05:00    1217.802856\n",
      "2022-12-23 00:10:00    1217.290039\n",
      "2022-12-23 00:15:00    1216.760986\n",
      "2022-12-23 00:20:00    1216.122192\n",
      "                          ...     \n",
      "2022-12-23 19:55:00    1219.938232\n",
      "2022-12-23 20:00:00    1220.113892\n",
      "2022-12-23 20:05:00    1220.753784\n",
      "2022-12-23 20:10:00    1220.488647\n",
      "2022-12-23 20:15:00    1220.388916\n",
      "Name: Open, Length: 244, dtype: float64\n"
     ]
    }
   ],
   "source": [
    "print(data[\"Open\"])"
   ]
  },
  {
   "cell_type": "code",
   "execution_count": 6,
   "id": "a11da890",
   "metadata": {
    "execution": {
     "iopub.execute_input": "2022-12-23T20:21:03.381590Z",
     "iopub.status.busy": "2022-12-23T20:21:03.381177Z",
     "iopub.status.idle": "2022-12-23T20:21:03.387443Z",
     "shell.execute_reply": "2022-12-23T20:21:03.386142Z"
    },
    "papermill": {
     "duration": 0.014671,
     "end_time": "2022-12-23T20:21:03.389867",
     "exception": false,
     "start_time": "2022-12-23T20:21:03.375196",
     "status": "completed"
    },
    "tags": []
   },
   "outputs": [],
   "source": [
    "def getRates(ticker_input ,period_input  ,interval_input ):\n",
    "    print(ticker_input)\n",
    "    data = yf.download(tickers=ticker_input, period = period_input, interval = interval_input)\n",
    "    return data[\"Open\"] "
   ]
  },
  {
   "cell_type": "code",
   "execution_count": 7,
   "id": "d29d742c",
   "metadata": {
    "execution": {
     "iopub.execute_input": "2022-12-23T20:21:03.401397Z",
     "iopub.status.busy": "2022-12-23T20:21:03.400734Z",
     "iopub.status.idle": "2022-12-23T20:21:03.817458Z",
     "shell.execute_reply": "2022-12-23T20:21:03.816179Z"
    },
    "papermill": {
     "duration": 0.425661,
     "end_time": "2022-12-23T20:21:03.820275",
     "exception": false,
     "start_time": "2022-12-23T20:21:03.394614",
     "status": "completed"
    },
    "tags": []
   },
   "outputs": [
    {
     "name": "stdout",
     "output_type": "stream",
     "text": [
      "ETH-USD\n",
      "[*********************100%***********************]  1 of 1 completed\n"
     ]
    },
    {
     "data": {
      "text/plain": [
       "Datetime\n",
       "2022-12-23 00:00:00    1218.079346\n",
       "2022-12-23 00:05:00    1217.802856\n",
       "2022-12-23 00:10:00    1217.290039\n",
       "2022-12-23 00:15:00    1216.760986\n",
       "2022-12-23 00:20:00    1216.122192\n",
       "                          ...     \n",
       "2022-12-23 19:55:00    1219.938232\n",
       "2022-12-23 20:00:00    1220.113892\n",
       "2022-12-23 20:05:00    1220.753784\n",
       "2022-12-23 20:10:00    1220.488647\n",
       "2022-12-23 20:15:00    1220.388916\n",
       "Name: Open, Length: 244, dtype: float64"
      ]
     },
     "execution_count": 7,
     "metadata": {},
     "output_type": "execute_result"
    }
   ],
   "source": [
    "getRates('ETH-USD',  '1d',  '5m')"
   ]
  },
  {
   "cell_type": "code",
   "execution_count": 8,
   "id": "70c9d62e",
   "metadata": {
    "execution": {
     "iopub.execute_input": "2022-12-23T20:21:03.832557Z",
     "iopub.status.busy": "2022-12-23T20:21:03.832164Z",
     "iopub.status.idle": "2022-12-23T20:21:04.241570Z",
     "shell.execute_reply": "2022-12-23T20:21:04.239937Z"
    },
    "papermill": {
     "duration": 0.418755,
     "end_time": "2022-12-23T20:21:04.244436",
     "exception": false,
     "start_time": "2022-12-23T20:21:03.825681",
     "status": "completed"
    },
    "tags": []
   },
   "outputs": [
    {
     "name": "stdout",
     "output_type": "stream",
     "text": [
      "ALGO-USD\n",
      "[*********************100%***********************]  1 of 1 completed\n"
     ]
    },
    {
     "data": {
      "text/plain": [
       "Datetime\n",
       "2022-12-23 00:00:00    0.171804\n",
       "2022-12-23 00:05:00    0.171943\n",
       "2022-12-23 00:10:00    0.171840\n",
       "2022-12-23 00:15:00    0.171763\n",
       "2022-12-23 00:20:00    0.171421\n",
       "                         ...   \n",
       "2022-12-23 19:55:00    0.170300\n",
       "2022-12-23 20:00:00    0.170385\n",
       "2022-12-23 20:05:00    0.170425\n",
       "2022-12-23 20:10:00    0.170400\n",
       "2022-12-23 20:15:00    0.170411\n",
       "Name: Open, Length: 244, dtype: float64"
      ]
     },
     "execution_count": 8,
     "metadata": {},
     "output_type": "execute_result"
    }
   ],
   "source": [
    "getRates('ALGO-USD',  '1d',  '5m')"
   ]
  },
  {
   "cell_type": "code",
   "execution_count": 9,
   "id": "91d138c0",
   "metadata": {
    "execution": {
     "iopub.execute_input": "2022-12-23T20:21:04.257403Z",
     "iopub.status.busy": "2022-12-23T20:21:04.256699Z",
     "iopub.status.idle": "2022-12-23T20:21:04.811742Z",
     "shell.execute_reply": "2022-12-23T20:21:04.810539Z"
    },
    "papermill": {
     "duration": 0.564062,
     "end_time": "2022-12-23T20:21:04.814100",
     "exception": false,
     "start_time": "2022-12-23T20:21:04.250038",
     "status": "completed"
    },
    "tags": []
   },
   "outputs": [
    {
     "name": "stdout",
     "output_type": "stream",
     "text": [
      "ALGO-USD\n",
      "[*********************100%***********************]  1 of 1 completed\n"
     ]
    },
    {
     "data": {
      "text/html": [
       "        <script type=\"text/javascript\">\n",
       "        window.PlotlyConfig = {MathJaxConfig: 'local'};\n",
       "        if (window.MathJax && window.MathJax.Hub && window.MathJax.Hub.Config) {window.MathJax.Hub.Config({SVG: {font: \"STIX-Web\"}});}\n",
       "        if (typeof require !== 'undefined') {\n",
       "        require.undef(\"plotly\");\n",
       "        requirejs.config({\n",
       "            paths: {\n",
       "                'plotly': ['https://cdn.plot.ly/plotly-2.14.0.min']\n",
       "            }\n",
       "        });\n",
       "        require(['plotly'], function(Plotly) {\n",
       "            window._Plotly = Plotly;\n",
       "        });\n",
       "        }\n",
       "        </script>\n",
       "        "
      ]
     },
     "metadata": {},
     "output_type": "display_data"
    },
    {
     "data": {
      "text/html": [
       "<div>                            <div id=\"2b337f2d-ff85-406b-861a-736265849907\" class=\"plotly-graph-div\" style=\"height:525px; width:100%;\"></div>            <script type=\"text/javascript\">                require([\"plotly\"], function(Plotly) {                    window.PLOTLYENV=window.PLOTLYENV || {};                                    if (document.getElementById(\"2b337f2d-ff85-406b-861a-736265849907\")) {                    Plotly.newPlot(                        \"2b337f2d-ff85-406b-861a-736265849907\",                        [{\"x\":[\"2022-12-23T00:00:00\",\"2022-12-23T00:05:00\",\"2022-12-23T00:10:00\",\"2022-12-23T00:15:00\",\"2022-12-23T00:20:00\",\"2022-12-23T00:25:00\",\"2022-12-23T00:30:00\",\"2022-12-23T00:35:00\",\"2022-12-23T00:40:00\",\"2022-12-23T00:45:00\",\"2022-12-23T00:50:00\",\"2022-12-23T00:55:00\",\"2022-12-23T01:00:00\",\"2022-12-23T01:05:00\",\"2022-12-23T01:10:00\",\"2022-12-23T01:15:00\",\"2022-12-23T01:20:00\",\"2022-12-23T01:25:00\",\"2022-12-23T01:30:00\",\"2022-12-23T01:35:00\",\"2022-12-23T01:40:00\",\"2022-12-23T01:45:00\",\"2022-12-23T01:50:00\",\"2022-12-23T01:55:00\",\"2022-12-23T02:00:00\",\"2022-12-23T02:05:00\",\"2022-12-23T02:10:00\",\"2022-12-23T02:15:00\",\"2022-12-23T02:20:00\",\"2022-12-23T02:25:00\",\"2022-12-23T02:30:00\",\"2022-12-23T02:35:00\",\"2022-12-23T02:40:00\",\"2022-12-23T02:45:00\",\"2022-12-23T02:50:00\",\"2022-12-23T02:55:00\",\"2022-12-23T03:00:00\",\"2022-12-23T03:05:00\",\"2022-12-23T03:10:00\",\"2022-12-23T03:15:00\",\"2022-12-23T03:20:00\",\"2022-12-23T03:25:00\",\"2022-12-23T03:30:00\",\"2022-12-23T03:35:00\",\"2022-12-23T03:40:00\",\"2022-12-23T03:45:00\",\"2022-12-23T03:50:00\",\"2022-12-23T03:55:00\",\"2022-12-23T04:00:00\",\"2022-12-23T04:05:00\",\"2022-12-23T04:10:00\",\"2022-12-23T04:15:00\",\"2022-12-23T04:20:00\",\"2022-12-23T04:25:00\",\"2022-12-23T04:30:00\",\"2022-12-23T04:35:00\",\"2022-12-23T04:40:00\",\"2022-12-23T04:45:00\",\"2022-12-23T04:50:00\",\"2022-12-23T04:55:00\",\"2022-12-23T05:00:00\",\"2022-12-23T05:05:00\",\"2022-12-23T05:10:00\",\"2022-12-23T05:15:00\",\"2022-12-23T05:20:00\",\"2022-12-23T05:25:00\",\"2022-12-23T05:30:00\",\"2022-12-23T05:35:00\",\"2022-12-23T05:40:00\",\"2022-12-23T05:45:00\",\"2022-12-23T05:50:00\",\"2022-12-23T05:55:00\",\"2022-12-23T06:00:00\",\"2022-12-23T06:05:00\",\"2022-12-23T06:10:00\",\"2022-12-23T06:15:00\",\"2022-12-23T06:20:00\",\"2022-12-23T06:25:00\",\"2022-12-23T06:30:00\",\"2022-12-23T06:35:00\",\"2022-12-23T06:40:00\",\"2022-12-23T06:45:00\",\"2022-12-23T06:50:00\",\"2022-12-23T06:55:00\",\"2022-12-23T07:00:00\",\"2022-12-23T07:05:00\",\"2022-12-23T07:10:00\",\"2022-12-23T07:15:00\",\"2022-12-23T07:20:00\",\"2022-12-23T07:25:00\",\"2022-12-23T07:30:00\",\"2022-12-23T07:35:00\",\"2022-12-23T07:40:00\",\"2022-12-23T07:45:00\",\"2022-12-23T07:50:00\",\"2022-12-23T07:55:00\",\"2022-12-23T08:00:00\",\"2022-12-23T08:05:00\",\"2022-12-23T08:10:00\",\"2022-12-23T08:15:00\",\"2022-12-23T08:20:00\",\"2022-12-23T08:25:00\",\"2022-12-23T08:30:00\",\"2022-12-23T08:35:00\",\"2022-12-23T08:40:00\",\"2022-12-23T08:45:00\",\"2022-12-23T08:50:00\",\"2022-12-23T08:55:00\",\"2022-12-23T09:00:00\",\"2022-12-23T09:05:00\",\"2022-12-23T09:10:00\",\"2022-12-23T09:15:00\",\"2022-12-23T09:20:00\",\"2022-12-23T09:25:00\",\"2022-12-23T09:30:00\",\"2022-12-23T09:35:00\",\"2022-12-23T09:40:00\",\"2022-12-23T09:45:00\",\"2022-12-23T09:50:00\",\"2022-12-23T09:55:00\",\"2022-12-23T10:00:00\",\"2022-12-23T10:05:00\",\"2022-12-23T10:10:00\",\"2022-12-23T10:15:00\",\"2022-12-23T10:20:00\",\"2022-12-23T10:25:00\",\"2022-12-23T10:30:00\",\"2022-12-23T10:35:00\",\"2022-12-23T10:40:00\",\"2022-12-23T10:45:00\",\"2022-12-23T10:50:00\",\"2022-12-23T10:55:00\",\"2022-12-23T11:00:00\",\"2022-12-23T11:05:00\",\"2022-12-23T11:10:00\",\"2022-12-23T11:15:00\",\"2022-12-23T11:20:00\",\"2022-12-23T11:25:00\",\"2022-12-23T11:30:00\",\"2022-12-23T11:35:00\",\"2022-12-23T11:40:00\",\"2022-12-23T11:45:00\",\"2022-12-23T11:50:00\",\"2022-12-23T11:55:00\",\"2022-12-23T12:00:00\",\"2022-12-23T12:05:00\",\"2022-12-23T12:10:00\",\"2022-12-23T12:15:00\",\"2022-12-23T12:20:00\",\"2022-12-23T12:25:00\",\"2022-12-23T12:30:00\",\"2022-12-23T12:35:00\",\"2022-12-23T12:40:00\",\"2022-12-23T12:45:00\",\"2022-12-23T12:50:00\",\"2022-12-23T12:55:00\",\"2022-12-23T13:00:00\",\"2022-12-23T13:05:00\",\"2022-12-23T13:10:00\",\"2022-12-23T13:15:00\",\"2022-12-23T13:20:00\",\"2022-12-23T13:25:00\",\"2022-12-23T13:30:00\",\"2022-12-23T13:35:00\",\"2022-12-23T13:40:00\",\"2022-12-23T13:45:00\",\"2022-12-23T13:50:00\",\"2022-12-23T13:55:00\",\"2022-12-23T14:00:00\",\"2022-12-23T14:05:00\",\"2022-12-23T14:10:00\",\"2022-12-23T14:15:00\",\"2022-12-23T14:20:00\",\"2022-12-23T14:25:00\",\"2022-12-23T14:30:00\",\"2022-12-23T14:35:00\",\"2022-12-23T14:40:00\",\"2022-12-23T14:45:00\",\"2022-12-23T14:50:00\",\"2022-12-23T14:55:00\",\"2022-12-23T15:00:00\",\"2022-12-23T15:05:00\",\"2022-12-23T15:10:00\",\"2022-12-23T15:15:00\",\"2022-12-23T15:20:00\",\"2022-12-23T15:25:00\",\"2022-12-23T15:30:00\",\"2022-12-23T15:35:00\",\"2022-12-23T15:40:00\",\"2022-12-23T15:45:00\",\"2022-12-23T15:50:00\",\"2022-12-23T15:55:00\",\"2022-12-23T16:00:00\",\"2022-12-23T16:05:00\",\"2022-12-23T16:10:00\",\"2022-12-23T16:15:00\",\"2022-12-23T16:20:00\",\"2022-12-23T16:25:00\",\"2022-12-23T16:30:00\",\"2022-12-23T16:35:00\",\"2022-12-23T16:40:00\",\"2022-12-23T16:45:00\",\"2022-12-23T16:50:00\",\"2022-12-23T16:55:00\",\"2022-12-23T17:00:00\",\"2022-12-23T17:05:00\",\"2022-12-23T17:10:00\",\"2022-12-23T17:15:00\",\"2022-12-23T17:20:00\",\"2022-12-23T17:25:00\",\"2022-12-23T17:30:00\",\"2022-12-23T17:35:00\",\"2022-12-23T17:40:00\",\"2022-12-23T17:45:00\",\"2022-12-23T17:50:00\",\"2022-12-23T17:55:00\",\"2022-12-23T18:00:00\",\"2022-12-23T18:05:00\",\"2022-12-23T18:10:00\",\"2022-12-23T18:15:00\",\"2022-12-23T18:20:00\",\"2022-12-23T18:25:00\",\"2022-12-23T18:30:00\",\"2022-12-23T18:35:00\",\"2022-12-23T18:40:00\",\"2022-12-23T18:45:00\",\"2022-12-23T18:50:00\",\"2022-12-23T18:55:00\",\"2022-12-23T19:00:00\",\"2022-12-23T19:05:00\",\"2022-12-23T19:10:00\",\"2022-12-23T19:15:00\",\"2022-12-23T19:20:00\",\"2022-12-23T19:25:00\",\"2022-12-23T19:30:00\",\"2022-12-23T19:35:00\",\"2022-12-23T19:40:00\",\"2022-12-23T19:45:00\",\"2022-12-23T19:50:00\",\"2022-12-23T19:55:00\",\"2022-12-23T20:00:00\",\"2022-12-23T20:05:00\",\"2022-12-23T20:10:00\",\"2022-12-23T20:15:00\"],\"y\":[0.1718040406703949,0.17194323241710663,0.1718396693468094,0.17176321148872375,0.1714213788509369,0.171470507979393,0.1716758906841278,0.17183493077754974,0.17202039062976837,0.1718543916940689,0.1714421957731247,0.1714233160018921,0.17125345766544342,0.17115411162376404,0.1712801456451416,0.17122437059879303,0.17121191322803497,0.17119690775871277,0.17137911915779114,0.1714271903038025,0.17128542065620422,0.17122340202331543,0.1713276356458664,0.17146186530590057,0.1714446246623993,0.17143301665782928,0.17159369587898254,0.17156869173049927,0.17152082920074463,0.17164257168769836,0.17180468142032623,0.17192569375038147,0.17202483117580414,0.17196331918239594,0.17196248471736908,0.17215746641159058,0.1724892407655716,0.17300668358802795,0.17319877445697784,0.17319391667842865,0.1730613112449646,0.1728890985250473,0.1728241741657257,0.17244483530521393,0.17228111624717712,0.17232578992843628,0.17239955067634583,0.17223723232746124,0.17227202653884888,0.17239366471767426,0.17236877977848053,0.17237161099910736,0.17232003808021545,0.17228415608406067,0.17234773933887482,0.17243997752666473,0.17243391275405884,0.17243966460227966,0.17240041494369507,0.1723298877477646,0.17228096723556519,0.172470360994339,0.17241284251213074,0.17255236208438873,0.17237824201583862,0.17228522896766663,0.17221088707447052,0.17212378978729248,0.17209935188293457,0.17208892107009888,0.1720588058233261,0.1721436083316803,0.17197206616401672,0.17185667157173157,0.1718166321516037,0.17182473838329315,0.1717044711112976,0.17168466746807098,0.1717538833618164,0.17182691395282745,0.171753391623497,0.1718340814113617,0.17174726724624634,0.171785369515419,0.17184877395629883,0.17164826393127441,0.1717899888753891,0.17169643938541412,0.1716981828212738,0.17177040874958038,0.17174303531646729,0.17165152728557587,0.1718049794435501,0.17176583409309387,0.17179633677005768,0.171783447265625,0.17175555229187012,0.17157191038131714,0.17105063796043396,0.1708892285823822,0.17086197435855865,0.1708870828151703,0.17087878286838531,0.17090865969657898,0.17109881341457367,0.17112301290035248,0.17111285030841827,0.171157106757164,0.17107611894607544,0.17109347879886627,0.17107801139354706,0.17109674215316772,0.17097824811935425,0.17063675820827484,0.17059990763664246,0.1705676019191742,0.17061065137386322,0.17061170935630798,0.17061156034469604,0.17058423161506653,0.17057183384895325,0.17054009437561035,0.17032065987586975,0.17031684517860413,0.1704569309949875,0.17052745819091797,0.17056220769882202,0.1706327497959137,0.17079919576644897,0.1708187460899353,0.17068606615066528,0.17068906128406525,0.17065413296222687,0.17060117423534393,0.17047955095767975,0.17044150829315186,0.17039568722248077,0.1703161746263504,0.17026843130588531,0.17020876705646515,0.17020240426063538,0.17024877667427063,0.17034180462360382,0.17055104672908783,0.17058612406253815,0.17067795991897583,0.1706148087978363,0.1706150621175766,0.1706092357635498,0.1706608384847641,0.1707177460193634,0.1707632690668106,0.17078198492527008,0.17071542143821716,0.17069067060947418,0.17089541256427765,0.17099705338478088,0.1710951179265976,0.17103640735149384,0.17099973559379578,0.17130695283412933,0.17144101858139038,0.17146429419517517,0.17053426802158356,0.17073547840118408,0.17115472257137299,0.17133767902851105,0.1709778904914856,0.17076309025287628,0.1705581694841385,0.1705184280872345,0.17046424746513367,0.17055127024650574,0.1702379584312439,0.1699949949979782,0.17011016607284546,0.1697697639465332,0.16988496482372284,0.16992998123168945,0.16998472809791565,0.16999922692775726,0.16990016400814056,0.1699787825345993,0.17006249725818634,0.1701873391866684,0.17041714489459991,0.17052441835403442,0.17066170275211334,0.1709054708480835,0.17106349766254425,0.1709057241678238,0.17073921859264374,0.17064350843429565,0.1705097258090973,0.17043927311897278,0.1704881638288498,0.1703665554523468,0.17023000121116638,0.17021532356739044,0.17013898491859436,0.17020480334758759,0.17030878365039825,0.17018312215805054,0.170065239071846,0.17004194855690002,0.17012985050678253,0.17014257609844208,0.1701679825782776,0.17020109295845032,0.17043046653270721,0.1704156994819641,0.17047394812107086,0.17045992612838745,0.1703929603099823,0.17029723525047302,0.17040686309337616,0.1704043596982956,0.170362189412117,0.1705029457807541,0.1705053597688675,0.1706639528274536,0.17069952189922333,0.17065519094467163,0.17071408033370972,0.1706298291683197,0.1705586463212967,0.1702568084001541,0.170246884226799,0.1701929122209549,0.17018170654773712,0.17009471356868744,0.17015957832336426,0.1702016443014145,0.17018413543701172,0.17034786939620972,0.1705389767885208,0.1704585999250412,0.17031939327716827,0.17025887966156006,0.17029963433742523,0.170385479927063,0.17042513191699982,0.17040026187896729,0.17041070759296417],\"type\":\"scatter\"}],                        {\"template\":{\"data\":{\"histogram2dcontour\":[{\"type\":\"histogram2dcontour\",\"colorbar\":{\"outlinewidth\":0,\"ticks\":\"\"},\"colorscale\":[[0.0,\"#0d0887\"],[0.1111111111111111,\"#46039f\"],[0.2222222222222222,\"#7201a8\"],[0.3333333333333333,\"#9c179e\"],[0.4444444444444444,\"#bd3786\"],[0.5555555555555556,\"#d8576b\"],[0.6666666666666666,\"#ed7953\"],[0.7777777777777778,\"#fb9f3a\"],[0.8888888888888888,\"#fdca26\"],[1.0,\"#f0f921\"]]}],\"choropleth\":[{\"type\":\"choropleth\",\"colorbar\":{\"outlinewidth\":0,\"ticks\":\"\"}}],\"histogram2d\":[{\"type\":\"histogram2d\",\"colorbar\":{\"outlinewidth\":0,\"ticks\":\"\"},\"colorscale\":[[0.0,\"#0d0887\"],[0.1111111111111111,\"#46039f\"],[0.2222222222222222,\"#7201a8\"],[0.3333333333333333,\"#9c179e\"],[0.4444444444444444,\"#bd3786\"],[0.5555555555555556,\"#d8576b\"],[0.6666666666666666,\"#ed7953\"],[0.7777777777777778,\"#fb9f3a\"],[0.8888888888888888,\"#fdca26\"],[1.0,\"#f0f921\"]]}],\"heatmap\":[{\"type\":\"heatmap\",\"colorbar\":{\"outlinewidth\":0,\"ticks\":\"\"},\"colorscale\":[[0.0,\"#0d0887\"],[0.1111111111111111,\"#46039f\"],[0.2222222222222222,\"#7201a8\"],[0.3333333333333333,\"#9c179e\"],[0.4444444444444444,\"#bd3786\"],[0.5555555555555556,\"#d8576b\"],[0.6666666666666666,\"#ed7953\"],[0.7777777777777778,\"#fb9f3a\"],[0.8888888888888888,\"#fdca26\"],[1.0,\"#f0f921\"]]}],\"heatmapgl\":[{\"type\":\"heatmapgl\",\"colorbar\":{\"outlinewidth\":0,\"ticks\":\"\"},\"colorscale\":[[0.0,\"#0d0887\"],[0.1111111111111111,\"#46039f\"],[0.2222222222222222,\"#7201a8\"],[0.3333333333333333,\"#9c179e\"],[0.4444444444444444,\"#bd3786\"],[0.5555555555555556,\"#d8576b\"],[0.6666666666666666,\"#ed7953\"],[0.7777777777777778,\"#fb9f3a\"],[0.8888888888888888,\"#fdca26\"],[1.0,\"#f0f921\"]]}],\"contourcarpet\":[{\"type\":\"contourcarpet\",\"colorbar\":{\"outlinewidth\":0,\"ticks\":\"\"}}],\"contour\":[{\"type\":\"contour\",\"colorbar\":{\"outlinewidth\":0,\"ticks\":\"\"},\"colorscale\":[[0.0,\"#0d0887\"],[0.1111111111111111,\"#46039f\"],[0.2222222222222222,\"#7201a8\"],[0.3333333333333333,\"#9c179e\"],[0.4444444444444444,\"#bd3786\"],[0.5555555555555556,\"#d8576b\"],[0.6666666666666666,\"#ed7953\"],[0.7777777777777778,\"#fb9f3a\"],[0.8888888888888888,\"#fdca26\"],[1.0,\"#f0f921\"]]}],\"surface\":[{\"type\":\"surface\",\"colorbar\":{\"outlinewidth\":0,\"ticks\":\"\"},\"colorscale\":[[0.0,\"#0d0887\"],[0.1111111111111111,\"#46039f\"],[0.2222222222222222,\"#7201a8\"],[0.3333333333333333,\"#9c179e\"],[0.4444444444444444,\"#bd3786\"],[0.5555555555555556,\"#d8576b\"],[0.6666666666666666,\"#ed7953\"],[0.7777777777777778,\"#fb9f3a\"],[0.8888888888888888,\"#fdca26\"],[1.0,\"#f0f921\"]]}],\"mesh3d\":[{\"type\":\"mesh3d\",\"colorbar\":{\"outlinewidth\":0,\"ticks\":\"\"}}],\"scatter\":[{\"fillpattern\":{\"fillmode\":\"overlay\",\"size\":10,\"solidity\":0.2},\"type\":\"scatter\"}],\"parcoords\":[{\"type\":\"parcoords\",\"line\":{\"colorbar\":{\"outlinewidth\":0,\"ticks\":\"\"}}}],\"scatterpolargl\":[{\"type\":\"scatterpolargl\",\"marker\":{\"colorbar\":{\"outlinewidth\":0,\"ticks\":\"\"}}}],\"bar\":[{\"error_x\":{\"color\":\"#2a3f5f\"},\"error_y\":{\"color\":\"#2a3f5f\"},\"marker\":{\"line\":{\"color\":\"#E5ECF6\",\"width\":0.5},\"pattern\":{\"fillmode\":\"overlay\",\"size\":10,\"solidity\":0.2}},\"type\":\"bar\"}],\"scattergeo\":[{\"type\":\"scattergeo\",\"marker\":{\"colorbar\":{\"outlinewidth\":0,\"ticks\":\"\"}}}],\"scatterpolar\":[{\"type\":\"scatterpolar\",\"marker\":{\"colorbar\":{\"outlinewidth\":0,\"ticks\":\"\"}}}],\"histogram\":[{\"marker\":{\"pattern\":{\"fillmode\":\"overlay\",\"size\":10,\"solidity\":0.2}},\"type\":\"histogram\"}],\"scattergl\":[{\"type\":\"scattergl\",\"marker\":{\"colorbar\":{\"outlinewidth\":0,\"ticks\":\"\"}}}],\"scatter3d\":[{\"type\":\"scatter3d\",\"line\":{\"colorbar\":{\"outlinewidth\":0,\"ticks\":\"\"}},\"marker\":{\"colorbar\":{\"outlinewidth\":0,\"ticks\":\"\"}}}],\"scattermapbox\":[{\"type\":\"scattermapbox\",\"marker\":{\"colorbar\":{\"outlinewidth\":0,\"ticks\":\"\"}}}],\"scatterternary\":[{\"type\":\"scatterternary\",\"marker\":{\"colorbar\":{\"outlinewidth\":0,\"ticks\":\"\"}}}],\"scattercarpet\":[{\"type\":\"scattercarpet\",\"marker\":{\"colorbar\":{\"outlinewidth\":0,\"ticks\":\"\"}}}],\"carpet\":[{\"aaxis\":{\"endlinecolor\":\"#2a3f5f\",\"gridcolor\":\"white\",\"linecolor\":\"white\",\"minorgridcolor\":\"white\",\"startlinecolor\":\"#2a3f5f\"},\"baxis\":{\"endlinecolor\":\"#2a3f5f\",\"gridcolor\":\"white\",\"linecolor\":\"white\",\"minorgridcolor\":\"white\",\"startlinecolor\":\"#2a3f5f\"},\"type\":\"carpet\"}],\"table\":[{\"cells\":{\"fill\":{\"color\":\"#EBF0F8\"},\"line\":{\"color\":\"white\"}},\"header\":{\"fill\":{\"color\":\"#C8D4E3\"},\"line\":{\"color\":\"white\"}},\"type\":\"table\"}],\"barpolar\":[{\"marker\":{\"line\":{\"color\":\"#E5ECF6\",\"width\":0.5},\"pattern\":{\"fillmode\":\"overlay\",\"size\":10,\"solidity\":0.2}},\"type\":\"barpolar\"}],\"pie\":[{\"automargin\":true,\"type\":\"pie\"}]},\"layout\":{\"autotypenumbers\":\"strict\",\"colorway\":[\"#636efa\",\"#EF553B\",\"#00cc96\",\"#ab63fa\",\"#FFA15A\",\"#19d3f3\",\"#FF6692\",\"#B6E880\",\"#FF97FF\",\"#FECB52\"],\"font\":{\"color\":\"#2a3f5f\"},\"hovermode\":\"closest\",\"hoverlabel\":{\"align\":\"left\"},\"paper_bgcolor\":\"white\",\"plot_bgcolor\":\"#E5ECF6\",\"polar\":{\"bgcolor\":\"#E5ECF6\",\"angularaxis\":{\"gridcolor\":\"white\",\"linecolor\":\"white\",\"ticks\":\"\"},\"radialaxis\":{\"gridcolor\":\"white\",\"linecolor\":\"white\",\"ticks\":\"\"}},\"ternary\":{\"bgcolor\":\"#E5ECF6\",\"aaxis\":{\"gridcolor\":\"white\",\"linecolor\":\"white\",\"ticks\":\"\"},\"baxis\":{\"gridcolor\":\"white\",\"linecolor\":\"white\",\"ticks\":\"\"},\"caxis\":{\"gridcolor\":\"white\",\"linecolor\":\"white\",\"ticks\":\"\"}},\"coloraxis\":{\"colorbar\":{\"outlinewidth\":0,\"ticks\":\"\"}},\"colorscale\":{\"sequential\":[[0.0,\"#0d0887\"],[0.1111111111111111,\"#46039f\"],[0.2222222222222222,\"#7201a8\"],[0.3333333333333333,\"#9c179e\"],[0.4444444444444444,\"#bd3786\"],[0.5555555555555556,\"#d8576b\"],[0.6666666666666666,\"#ed7953\"],[0.7777777777777778,\"#fb9f3a\"],[0.8888888888888888,\"#fdca26\"],[1.0,\"#f0f921\"]],\"sequentialminus\":[[0.0,\"#0d0887\"],[0.1111111111111111,\"#46039f\"],[0.2222222222222222,\"#7201a8\"],[0.3333333333333333,\"#9c179e\"],[0.4444444444444444,\"#bd3786\"],[0.5555555555555556,\"#d8576b\"],[0.6666666666666666,\"#ed7953\"],[0.7777777777777778,\"#fb9f3a\"],[0.8888888888888888,\"#fdca26\"],[1.0,\"#f0f921\"]],\"diverging\":[[0,\"#8e0152\"],[0.1,\"#c51b7d\"],[0.2,\"#de77ae\"],[0.3,\"#f1b6da\"],[0.4,\"#fde0ef\"],[0.5,\"#f7f7f7\"],[0.6,\"#e6f5d0\"],[0.7,\"#b8e186\"],[0.8,\"#7fbc41\"],[0.9,\"#4d9221\"],[1,\"#276419\"]]},\"xaxis\":{\"gridcolor\":\"white\",\"linecolor\":\"white\",\"ticks\":\"\",\"title\":{\"standoff\":15},\"zerolinecolor\":\"white\",\"automargin\":true,\"zerolinewidth\":2},\"yaxis\":{\"gridcolor\":\"white\",\"linecolor\":\"white\",\"ticks\":\"\",\"title\":{\"standoff\":15},\"zerolinecolor\":\"white\",\"automargin\":true,\"zerolinewidth\":2},\"scene\":{\"xaxis\":{\"backgroundcolor\":\"#E5ECF6\",\"gridcolor\":\"white\",\"linecolor\":\"white\",\"showbackground\":true,\"ticks\":\"\",\"zerolinecolor\":\"white\",\"gridwidth\":2},\"yaxis\":{\"backgroundcolor\":\"#E5ECF6\",\"gridcolor\":\"white\",\"linecolor\":\"white\",\"showbackground\":true,\"ticks\":\"\",\"zerolinecolor\":\"white\",\"gridwidth\":2},\"zaxis\":{\"backgroundcolor\":\"#E5ECF6\",\"gridcolor\":\"white\",\"linecolor\":\"white\",\"showbackground\":true,\"ticks\":\"\",\"zerolinecolor\":\"white\",\"gridwidth\":2}},\"shapedefaults\":{\"line\":{\"color\":\"#2a3f5f\"}},\"annotationdefaults\":{\"arrowcolor\":\"#2a3f5f\",\"arrowhead\":0,\"arrowwidth\":1},\"geo\":{\"bgcolor\":\"white\",\"landcolor\":\"#E5ECF6\",\"subunitcolor\":\"white\",\"showland\":true,\"showlakes\":true,\"lakecolor\":\"white\"},\"title\":{\"x\":0.05},\"mapbox\":{\"style\":\"light\"}}}},                        {\"responsive\": true}                    ).then(function(){\n",
       "                            \n",
       "var gd = document.getElementById('2b337f2d-ff85-406b-861a-736265849907');\n",
       "var x = new MutationObserver(function (mutations, observer) {{\n",
       "        var display = window.getComputedStyle(gd).display;\n",
       "        if (!display || display === 'none') {{\n",
       "            console.log([gd, 'removed!']);\n",
       "            Plotly.purge(gd);\n",
       "            observer.disconnect();\n",
       "        }}\n",
       "}});\n",
       "\n",
       "// Listen for the removal of the full notebook cells\n",
       "var notebookContainer = gd.closest('#notebook-container');\n",
       "if (notebookContainer) {{\n",
       "    x.observe(notebookContainer, {childList: true});\n",
       "}}\n",
       "\n",
       "// Listen for the clearing of the current output cell\n",
       "var outputEl = gd.closest('.output');\n",
       "if (outputEl) {{\n",
       "    x.observe(outputEl, {childList: true});\n",
       "}}\n",
       "\n",
       "                        })                };                });            </script>        </div>"
      ]
     },
     "metadata": {},
     "output_type": "display_data"
    }
   ],
   "source": [
    "df0=getRates('ALGO-USD',  '1d',  '5m')\n",
    "\n",
    "\n",
    "x = df0.index\n",
    "y = df0.values\n",
    "fig = go.Figure(data=go.Scatter(x = x, y = y))\n",
    "fig.show()"
   ]
  }
 ],
 "metadata": {
  "kernelspec": {
   "display_name": "Python 3",
   "language": "python",
   "name": "python3"
  },
  "language_info": {
   "codemirror_mode": {
    "name": "ipython",
    "version": 3
   },
   "file_extension": ".py",
   "mimetype": "text/x-python",
   "name": "python",
   "nbconvert_exporter": "python",
   "pygments_lexer": "ipython3",
   "version": "3.7.12"
  },
  "papermill": {
   "default_parameters": {},
   "duration": 27.321778,
   "end_time": "2022-12-23T20:21:05.543407",
   "environment_variables": {},
   "exception": null,
   "input_path": "__notebook__.ipynb",
   "output_path": "__notebook__.ipynb",
   "parameters": {},
   "start_time": "2022-12-23T20:20:38.221629",
   "version": "2.3.4"
  }
 },
 "nbformat": 4,
 "nbformat_minor": 5
}
