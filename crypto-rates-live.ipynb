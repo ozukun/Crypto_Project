{
 "cells": [
  {
   "cell_type": "code",
   "execution_count": 1,
   "id": "56dd68c8",
   "metadata": {
    "_cell_guid": "b1076dfc-b9ad-4769-8c92-a6c4dae69d19",
    "_uuid": "8f2839f25d086af736a60e9eeb907d3b93b6e0e5",
    "execution": {
     "iopub.execute_input": "2022-12-23T19:37:46.146302Z",
     "iopub.status.busy": "2022-12-23T19:37:46.145761Z",
     "iopub.status.idle": "2022-12-23T19:37:46.158105Z",
     "shell.execute_reply": "2022-12-23T19:37:46.157135Z"
    },
    "papermill": {
     "duration": 0.020502,
     "end_time": "2022-12-23T19:37:46.160817",
     "exception": false,
     "start_time": "2022-12-23T19:37:46.140315",
     "status": "completed"
    },
    "tags": []
   },
   "outputs": [],
   "source": [
    "# This Python 3 environment comes with many helpful analytics libraries installed\n",
    "# It is defined by the kaggle/python Docker image: https://github.com/kaggle/docker-python\n",
    "# For example, here's several helpful packages to load\n",
    "\n",
    "import numpy as np # linear algebra\n",
    "import pandas as pd # data processing, CSV file I/O (e.g. pd.read_csv)\n",
    "\n",
    "# Input data files are available in the read-only \"../input/\" directory\n",
    "# For example, running this (by clicking run or pressing Shift+Enter) will list all files under the input directory\n",
    "\n",
    "import os\n",
    "for dirname, _, filenames in os.walk('/kaggle/input'):\n",
    "    for filename in filenames:\n",
    "        print(os.path.join(dirname, filename))\n",
    "\n",
    "# You can write up to 20GB to the current directory (/kaggle/working/) that gets preserved as output when you create a version using \"Save & Run All\" \n",
    "# You can also write temporary files to /kaggle/temp/, but they won't be saved outside of the current session"
   ]
  },
  {
   "cell_type": "code",
   "execution_count": 2,
   "id": "98a582d9",
   "metadata": {
    "execution": {
     "iopub.execute_input": "2022-12-23T19:37:46.168405Z",
     "iopub.status.busy": "2022-12-23T19:37:46.167629Z",
     "iopub.status.idle": "2022-12-23T19:38:01.466196Z",
     "shell.execute_reply": "2022-12-23T19:38:01.464450Z"
    },
    "papermill": {
     "duration": 15.305192,
     "end_time": "2022-12-23T19:38:01.468916",
     "exception": false,
     "start_time": "2022-12-23T19:37:46.163724",
     "status": "completed"
    },
    "tags": []
   },
   "outputs": [
    {
     "name": "stdout",
     "output_type": "stream",
     "text": [
      "Collecting yfinance\r\n",
      "  Downloading yfinance-0.2.3-py2.py3-none-any.whl (50 kB)\r\n",
      "\u001b[2K     \u001b[90m━━━━━━━━━━━━━━━━━━━━━━━━━━━━━━━━━━━━━━━━\u001b[0m \u001b[32m50.4/50.4 kB\u001b[0m \u001b[31m2.2 MB/s\u001b[0m eta \u001b[36m0:00:00\u001b[0m\r\n",
      "\u001b[?25hRequirement already satisfied: lxml>=4.9.1 in /opt/conda/lib/python3.7/site-packages (from yfinance) (4.9.1)\r\n",
      "Requirement already satisfied: appdirs>=1.4.4 in /opt/conda/lib/python3.7/site-packages (from yfinance) (1.4.4)\r\n",
      "Collecting multitasking>=0.0.7\r\n",
      "  Downloading multitasking-0.0.11-py3-none-any.whl (8.5 kB)\r\n",
      "Requirement already satisfied: html5lib>=1.1 in /opt/conda/lib/python3.7/site-packages (from yfinance) (1.1)\r\n",
      "Requirement already satisfied: frozendict>=2.3.4 in /opt/conda/lib/python3.7/site-packages (from yfinance) (2.3.4)\r\n",
      "Requirement already satisfied: beautifulsoup4>=4.11.1 in /opt/conda/lib/python3.7/site-packages (from yfinance) (4.11.1)\r\n",
      "Requirement already satisfied: pandas>=1.3.0 in /opt/conda/lib/python3.7/site-packages (from yfinance) (1.3.5)\r\n",
      "Requirement already satisfied: numpy>=1.16.5 in /opt/conda/lib/python3.7/site-packages (from yfinance) (1.21.6)\r\n",
      "Requirement already satisfied: requests>=2.26 in /opt/conda/lib/python3.7/site-packages (from yfinance) (2.28.1)\r\n",
      "Requirement already satisfied: cryptography>=3.3.2 in /opt/conda/lib/python3.7/site-packages (from yfinance) (37.0.2)\r\n",
      "Collecting pytz>=2022.5\r\n",
      "  Downloading pytz-2022.7-py2.py3-none-any.whl (499 kB)\r\n",
      "\u001b[2K     \u001b[90m━━━━━━━━━━━━━━━━━━━━━━━━━━━━━━━━━━━━━━\u001b[0m \u001b[32m499.4/499.4 kB\u001b[0m \u001b[31m11.0 MB/s\u001b[0m eta \u001b[36m0:00:00\u001b[0m\r\n",
      "\u001b[?25hRequirement already satisfied: soupsieve>1.2 in /opt/conda/lib/python3.7/site-packages (from beautifulsoup4>=4.11.1->yfinance) (2.3.1)\r\n",
      "Requirement already satisfied: cffi>=1.12 in /opt/conda/lib/python3.7/site-packages (from cryptography>=3.3.2->yfinance) (1.15.0)\r\n",
      "Requirement already satisfied: six>=1.9 in /opt/conda/lib/python3.7/site-packages (from html5lib>=1.1->yfinance) (1.15.0)\r\n",
      "Requirement already satisfied: webencodings in /opt/conda/lib/python3.7/site-packages (from html5lib>=1.1->yfinance) (0.5.1)\r\n",
      "Requirement already satisfied: python-dateutil>=2.7.3 in /opt/conda/lib/python3.7/site-packages (from pandas>=1.3.0->yfinance) (2.8.2)\r\n",
      "Requirement already satisfied: certifi>=2017.4.17 in /opt/conda/lib/python3.7/site-packages (from requests>=2.26->yfinance) (2022.9.24)\r\n",
      "Requirement already satisfied: charset-normalizer<3,>=2 in /opt/conda/lib/python3.7/site-packages (from requests>=2.26->yfinance) (2.1.0)\r\n",
      "Requirement already satisfied: idna<4,>=2.5 in /opt/conda/lib/python3.7/site-packages (from requests>=2.26->yfinance) (3.3)\r\n",
      "Requirement already satisfied: urllib3<1.27,>=1.21.1 in /opt/conda/lib/python3.7/site-packages (from requests>=2.26->yfinance) (1.26.12)\r\n",
      "Requirement already satisfied: pycparser in /opt/conda/lib/python3.7/site-packages (from cffi>=1.12->cryptography>=3.3.2->yfinance) (2.21)\r\n",
      "Installing collected packages: pytz, multitasking, yfinance\r\n",
      "  Attempting uninstall: pytz\r\n",
      "    Found existing installation: pytz 2022.1\r\n",
      "    Uninstalling pytz-2022.1:\r\n",
      "      Successfully uninstalled pytz-2022.1\r\n",
      "\u001b[31mERROR: pip's dependency resolver does not currently take into account all the packages that are installed. This behaviour is the source of the following dependency conflicts.\r\n",
      "beatrix-jupyterlab 3.1.7 requires google-cloud-bigquery-storage, which is not installed.\r\n",
      "pandas-profiling 3.1.0 requires markupsafe~=2.0.1, but you have markupsafe 2.1.1 which is incompatible.\r\n",
      "apache-beam 2.40.0 requires dill<0.3.2,>=0.3.1.1, but you have dill 0.3.5.1 which is incompatible.\r\n",
      "apache-beam 2.40.0 requires pyarrow<8.0.0,>=0.15.1, but you have pyarrow 8.0.0 which is incompatible.\u001b[0m\u001b[31m\r\n",
      "\u001b[0mSuccessfully installed multitasking-0.0.11 pytz-2022.7 yfinance-0.2.3\r\n",
      "\u001b[33mWARNING: Running pip as the 'root' user can result in broken permissions and conflicting behaviour with the system package manager. It is recommended to use a virtual environment instead: https://pip.pypa.io/warnings/venv\u001b[0m\u001b[33m\r\n",
      "\u001b[0mNote: you may need to restart the kernel to use updated packages.\n"
     ]
    }
   ],
   "source": [
    "pip install yfinance"
   ]
  },
  {
   "cell_type": "code",
   "execution_count": 3,
   "id": "93cc491c",
   "metadata": {
    "execution": {
     "iopub.execute_input": "2022-12-23T19:38:01.478181Z",
     "iopub.status.busy": "2022-12-23T19:38:01.477690Z",
     "iopub.status.idle": "2022-12-23T19:38:01.540760Z",
     "shell.execute_reply": "2022-12-23T19:38:01.539525Z"
    },
    "papermill": {
     "duration": 0.071426,
     "end_time": "2022-12-23T19:38:01.543825",
     "exception": false,
     "start_time": "2022-12-23T19:38:01.472399",
     "status": "completed"
    },
    "tags": []
   },
   "outputs": [],
   "source": [
    "# Raw Package\n",
    "import numpy as np\n",
    "import pandas as pd\n",
    "\n",
    "#Data Source\n",
    "import yfinance as yf\n",
    "\n",
    "#Data viz\n",
    "import plotly.graph_objs as go"
   ]
  },
  {
   "cell_type": "code",
   "execution_count": 4,
   "id": "9eab68c0",
   "metadata": {
    "execution": {
     "iopub.execute_input": "2022-12-23T19:38:01.553391Z",
     "iopub.status.busy": "2022-12-23T19:38:01.552610Z",
     "iopub.status.idle": "2022-12-23T19:38:01.709810Z",
     "shell.execute_reply": "2022-12-23T19:38:01.708581Z"
    },
    "papermill": {
     "duration": 0.165279,
     "end_time": "2022-12-23T19:38:01.712560",
     "exception": false,
     "start_time": "2022-12-23T19:38:01.547281",
     "status": "completed"
    },
    "tags": []
   },
   "outputs": [
    {
     "name": "stdout",
     "output_type": "stream",
     "text": [
      "[*********************100%***********************]  1 of 1 completed\n"
     ]
    }
   ],
   "source": [
    "data = yf.download(tickers='ETH-USD', period = '1d', interval = '5m')\n"
   ]
  },
  {
   "cell_type": "code",
   "execution_count": 5,
   "id": "a9722669",
   "metadata": {
    "execution": {
     "iopub.execute_input": "2022-12-23T19:38:01.721811Z",
     "iopub.status.busy": "2022-12-23T19:38:01.721368Z",
     "iopub.status.idle": "2022-12-23T19:38:01.731973Z",
     "shell.execute_reply": "2022-12-23T19:38:01.729529Z"
    },
    "papermill": {
     "duration": 0.019966,
     "end_time": "2022-12-23T19:38:01.736146",
     "exception": false,
     "start_time": "2022-12-23T19:38:01.716180",
     "status": "completed"
    },
    "tags": []
   },
   "outputs": [
    {
     "name": "stdout",
     "output_type": "stream",
     "text": [
      "Datetime\n",
      "2022-12-23 00:00:00    1218.079346\n",
      "2022-12-23 00:05:00    1217.802856\n",
      "2022-12-23 00:10:00    1217.290039\n",
      "2022-12-23 00:15:00    1216.760986\n",
      "2022-12-23 00:20:00    1216.122192\n",
      "                          ...     \n",
      "2022-12-23 19:15:00    1219.845093\n",
      "2022-12-23 19:20:00    1219.862061\n",
      "2022-12-23 19:25:00    1219.565186\n",
      "2022-12-23 19:30:00    1219.950439\n",
      "2022-12-23 19:35:00    1220.179321\n",
      "Name: Open, Length: 236, dtype: float64\n"
     ]
    }
   ],
   "source": [
    "print(data[\"Open\"])"
   ]
  }
 ],
 "metadata": {
  "kernelspec": {
   "display_name": "Python 3",
   "language": "python",
   "name": "python3"
  },
  "language_info": {
   "codemirror_mode": {
    "name": "ipython",
    "version": 3
   },
   "file_extension": ".py",
   "mimetype": "text/x-python",
   "name": "python",
   "nbconvert_exporter": "python",
   "pygments_lexer": "ipython3",
   "version": "3.7.12"
  },
  "papermill": {
   "default_parameters": {},
   "duration": 25.915818,
   "end_time": "2022-12-23T19:38:02.465956",
   "environment_variables": {},
   "exception": null,
   "input_path": "__notebook__.ipynb",
   "output_path": "__notebook__.ipynb",
   "parameters": {},
   "start_time": "2022-12-23T19:37:36.550138",
   "version": "2.3.4"
  }
 },
 "nbformat": 4,
 "nbformat_minor": 5
}
